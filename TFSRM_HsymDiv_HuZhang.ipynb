{
 "cells": [
  {
   "cell_type": "code",
   "execution_count": 1,
   "id": "copyrighted-formula",
   "metadata": {},
   "outputs": [],
   "source": [
    "#Import the extension  \n",
    "from ngsolve.fem import CompilePythonModule\n",
    "from pathlib import Path\n",
    "\n",
    "txt = Path('mymodule.cpp').read_text() \n",
    "m = CompilePythonModule(Path('mymodule.cpp'), init_function_name='mymodule')"
   ]
  },
  {
   "cell_type": "code",
   "execution_count": 4,
   "id": "large-teddy",
   "metadata": {},
   "outputs": [
    {
     "data": {
      "application/vnd.jupyter.widget-view+json": {
       "model_id": "5bcdef3c50674dd5a1ebd15f88ae8d38",
       "version_major": 2,
       "version_minor": 0
      },
      "text/plain": [
       "WebGuiWidget(layout=Layout(height='50vh', width='100%'), value={'gui_settings': {}, 'ngsolve_version': '6.2.23…"
      ]
     },
     "metadata": {},
     "output_type": "display_data"
    },
    {
     "data": {
      "application/vnd.jupyter.widget-view+json": {
       "model_id": "92c62a1015fb452f8e352370a00be0ba",
       "version_major": 2,
       "version_minor": 0
      },
      "text/plain": [
       "WebGuiWidget(layout=Layout(height='50vh', width='100%'), value={'gui_settings': {}, 'ngsolve_version': '6.2.23…"
      ]
     },
     "metadata": {},
     "output_type": "display_data"
    },
    {
     "data": {
      "application/vnd.jupyter.widget-view+json": {
       "model_id": "46b9d2f58eae413fbfb0f2dd0684be16",
       "version_major": 2,
       "version_minor": 0
      },
      "text/plain": [
       "WebGuiWidget(layout=Layout(height='50vh', width='100%'), value={'gui_settings': {}, 'ngsolve_version': '6.2.23…"
      ]
     },
     "metadata": {},
     "output_type": "display_data"
    },
    {
     "data": {
      "application/vnd.jupyter.widget-view+json": {
       "model_id": "02aee32fa34b4df89b5bdc2530074fbc",
       "version_major": 2,
       "version_minor": 0
      },
      "text/plain": [
       "WebGuiWidget(layout=Layout(height='50vh', width='100%'), value={'gui_settings': {}, 'ngsolve_version': '6.2.23…"
      ]
     },
     "metadata": {},
     "output_type": "display_data"
    },
    {
     "data": {
      "text/plain": [
       "BaseWebGuiScene"
      ]
     },
     "execution_count": 4,
     "metadata": {},
     "output_type": "execute_result"
    }
   ],
   "source": [
    "from ngsolve.meshes import MakeStructured2DMesh\n",
    "from ngsolve import *\n",
    "from ngsolve.webgui import Draw\n",
    "\n",
    "# Define the polynomial order p >= 3\n",
    "order = 3\n",
    "\n",
    "# Set material constants\n",
    "t = 1e-5\n",
    "ks = 5/6\n",
    "E = 1\n",
    "nu = 0.3\n",
    "mu = E / (2*(1+nu))\n",
    "\n",
    "# Define mesh subdivision\n",
    "h = 4\n",
    "\n",
    "# Define the compliance operator\n",
    "def A(mat):\n",
    "    return 12*(1+nu)/E*(mat-nu/(nu+1)*Trace(mat)*Id(2))\n",
    "\n",
    "# Define the force\n",
    "def f0(a):\n",
    "    return a*(a-1)\n",
    "\n",
    "def f1(a):\n",
    "    return 5 * a ** 2 - 5 * a + 1\n",
    "\n",
    "def f2(a):\n",
    "    return 2*a - 1\n",
    "\n",
    "g = 200 * E / (1-nu**2) * ( f0(x)**3*f1(y) + f0(y)**3*f1(x) + f0(x)*f0(y)*f1(x)*f1(y) )\n",
    "    \n",
    "# Build the mesh\n",
    "mesh = MakeStructured2DMesh(quads=False, nx=h, ny=h)\n",
    "\n",
    "# Define the finite element spaces\n",
    "fesH1 = H1(mesh, order=order, dirichlet=\"left|right|bottom|top\")  \n",
    "fesL2  = VectorL2(mesh, order=order-1)\n",
    "fesHsD = m.HDivSymFESpace(mesh, order=order)\n",
    "fes = fesH1*fesL2*fesHsD \n",
    "\n",
    "# Set the bilinear form\n",
    "(w, p, M), (dw, dp, dM) = fes.TnT()\n",
    "a = BilinearForm(fes, symmetric=False, symmetric_storage=False, condense=False)  \n",
    "a += (InnerProduct(dM, A(M)) + InnerProduct(div(dM), p) + InnerProduct(dp, div(M)) - (ks * mu/t**2)*InnerProduct(Grad(dw) - dp, Grad(w) - p))*dx\n",
    "\n",
    "# Define the right-hand side\n",
    "f = LinearForm(fes)\n",
    "f += (-dw * g)*dx\n",
    "\n",
    "# Solve the system\n",
    "sol = GridFunction(fes)\n",
    "\n",
    "r = sol.vec.CreateVector()\n",
    "w = sol.vec.CreateVector()\n",
    "    \n",
    "with TaskManager():\n",
    "    f.Assemble()\n",
    "    a.Assemble()\n",
    "    inv = a.mat.Inverse(fes.FreeDofs(a.condense), inverse=\"umfpack\")\n",
    "\n",
    "    a.Apply(sol.vec, r)\n",
    "    \n",
    "    r.data -= f.vec\n",
    "    if a.condense:\n",
    "        r.data += a.harmonic_extension_trans * r\n",
    "    w.data = inv * r\n",
    "    if a.condense:\n",
    "        w.data += a.harmonic_extension * w\n",
    "        w.data += a.inner_solve * r\n",
    "    sol.vec.data -= w\n",
    "\n",
    "# Get and plot results\n",
    "gfw,gfp, gfM = sol.components\n",
    "gfq = 0\n",
    "if t != 0:\n",
    "    gfq = (-ks * mu/t**2)*(Grad(gfw) - gfp)\n",
    "    \n",
    "Draw(gfw, mesh, \"w\", deformation=True, order=order)\n",
    "Draw(gfp, mesh, \"p\", order=order)\n",
    "Draw(Norm(gfM), mesh, \"M\", order=order)\n",
    "Draw(gfq, mesh, \"q\", order=order)"
   ]
  },
  {
   "cell_type": "code",
   "execution_count": null,
   "id": "noble-coaching",
   "metadata": {},
   "outputs": [],
   "source": []
  }
 ],
 "metadata": {
  "kernelspec": {
   "display_name": "Python 3",
   "language": "python",
   "name": "python3"
  },
  "language_info": {
   "codemirror_mode": {
    "name": "ipython",
    "version": 3
   },
   "file_extension": ".py",
   "mimetype": "text/x-python",
   "name": "python",
   "nbconvert_exporter": "python",
   "pygments_lexer": "ipython3",
   "version": "3.7.3"
  }
 },
 "nbformat": 4,
 "nbformat_minor": 5
}
